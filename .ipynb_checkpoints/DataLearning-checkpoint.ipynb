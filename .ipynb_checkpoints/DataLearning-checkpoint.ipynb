{
 "cells": [
  {
   "cell_type": "code",
   "execution_count": 31,
   "id": "6b2cbe4a-1c07-40c4-a240-8ed33477a05f",
   "metadata": {},
   "outputs": [
    {
     "name": "stdout",
     "output_type": "stream",
     "text": [
      "         date     client       produit  quantite  prix_unitaire\n",
      "0  2024-04-20  client_15        Webcam         4             83\n",
      "1  2024-04-25   client_6    Câble HDMI         3             43\n",
      "2  2024-01-26   client_8        Webcam         3             26\n",
      "3  2024-05-23   client_6  Casque Audio         5            251\n",
      "4  2024-03-12   client_2    Disque Dur         3            186\n"
     ]
    }
   ],
   "source": [
    "import pandas as pd\n",
    "\n",
    "#chargons un ficbhier csv\n",
    "\n",
    "df = pd.read_csv(\"ventes_ecommerce.csv\")\n",
    "                 \n",
    "#affichons les dernieres lignesa\n",
    "df.head()\n",
    "\n",
    "\n",
    "#2 nettoyage de donnees\n",
    "#suppression de colonne par nom\n",
    "df_cleaned=df.drop(\"total\",axis=1)\n",
    "print(df_cleaned.head())\n",
    "\n"
   ]
  },
  {
   "cell_type": "code",
   "execution_count": 38,
   "id": "fc081a21-b37b-4ef0-836c-69f9f5644aad",
   "metadata": {},
   "outputs": [
    {
     "name": "stdout",
     "output_type": "stream",
     "text": [
      "         date     client       produit  quantite  prix_unitaire  total  remise\n",
      "0  2024-04-20  client_15        Webcam         4             83    332    33.2\n",
      "1  2024-04-25   client_6    Câble HDMI         3             43    129    12.9\n",
      "2  2024-01-26   client_8        Webcam         3             26     78     7.8\n",
      "3  2024-05-23   client_6  Casque Audio         5            251   1255   125.5\n",
      "4  2024-03-12   client_2    Disque Dur         3            186    558    55.8\n"
     ]
    }
   ],
   "source": [
    "#calcul de base\n",
    " #total des marchandises\n",
    "df_cleaned['total']=df_cleaned['prix_unitaire'] * df_cleaned['quantite']\n",
    "\n",
    "\n",
    "#remise\n",
    "df_cleaned['remise'] = df_cleaned['total'] * 0.1\n",
    "\n",
    "print(df.head())\n"
   ]
  },
  {
   "cell_type": "code",
   "execution_count": 30,
   "id": "bc14d0af-d47e-4038-93e1-6d57820de453",
   "metadata": {},
   "outputs": [
    {
     "data": {
      "text/html": [
       "<div>\n",
       "<style scoped>\n",
       "    .dataframe tbody tr th:only-of-type {\n",
       "        vertical-align: middle;\n",
       "    }\n",
       "\n",
       "    .dataframe tbody tr th {\n",
       "        vertical-align: top;\n",
       "    }\n",
       "\n",
       "    .dataframe thead th {\n",
       "        text-align: right;\n",
       "    }\n",
       "</style>\n",
       "<table border=\"1\" class=\"dataframe\">\n",
       "  <thead>\n",
       "    <tr style=\"text-align: right;\">\n",
       "      <th></th>\n",
       "      <th>date</th>\n",
       "      <th>client</th>\n",
       "      <th>produit</th>\n",
       "      <th>quantite</th>\n",
       "      <th>prix_unitaire</th>\n",
       "      <th>total</th>\n",
       "    </tr>\n",
       "  </thead>\n",
       "  <tbody>\n",
       "    <tr>\n",
       "      <th>0</th>\n",
       "      <td>2024-04-20</td>\n",
       "      <td>client_15</td>\n",
       "      <td>Webcam</td>\n",
       "      <td>4</td>\n",
       "      <td>83</td>\n",
       "      <td>332</td>\n",
       "    </tr>\n",
       "    <tr>\n",
       "      <th>1</th>\n",
       "      <td>2024-04-25</td>\n",
       "      <td>client_6</td>\n",
       "      <td>Câble HDMI</td>\n",
       "      <td>3</td>\n",
       "      <td>43</td>\n",
       "      <td>129</td>\n",
       "    </tr>\n",
       "    <tr>\n",
       "      <th>2</th>\n",
       "      <td>2024-01-26</td>\n",
       "      <td>client_8</td>\n",
       "      <td>Webcam</td>\n",
       "      <td>3</td>\n",
       "      <td>26</td>\n",
       "      <td>78</td>\n",
       "    </tr>\n",
       "    <tr>\n",
       "      <th>3</th>\n",
       "      <td>2024-05-23</td>\n",
       "      <td>client_6</td>\n",
       "      <td>Casque Audio</td>\n",
       "      <td>5</td>\n",
       "      <td>251</td>\n",
       "      <td>1255</td>\n",
       "    </tr>\n",
       "    <tr>\n",
       "      <th>4</th>\n",
       "      <td>2024-03-12</td>\n",
       "      <td>client_2</td>\n",
       "      <td>Disque Dur</td>\n",
       "      <td>3</td>\n",
       "      <td>186</td>\n",
       "      <td>558</td>\n",
       "    </tr>\n",
       "  </tbody>\n",
       "</table>\n",
       "</div>"
      ],
      "text/plain": [
       "         date     client       produit  quantite  prix_unitaire  total\n",
       "0  2024-04-20  client_15        Webcam         4             83    332\n",
       "1  2024-04-25   client_6    Câble HDMI         3             43    129\n",
       "2  2024-01-26   client_8        Webcam         3             26     78\n",
       "3  2024-05-23   client_6  Casque Audio         5            251   1255\n",
       "4  2024-03-12   client_2    Disque Dur         3            186    558"
      ]
     },
     "execution_count": 30,
     "metadata": {},
     "output_type": "execute_result"
    }
   ],
   "source": [
    "import pandas as pd\n",
    "\n",
    "#chargons un ficbhier csv\n",
    "\n",
    "df = pd.read_csv(\"ventes_ecommerce.csv\")\n",
    "                 \n",
    "#affichons les dernieres lignesa\n",
    "df.head()\n"
   ]
  }
 ],
 "metadata": {
  "kernelspec": {
   "display_name": "Python 3 (ipykernel)",
   "language": "python",
   "name": "python3"
  },
  "language_info": {
   "codemirror_mode": {
    "name": "ipython",
    "version": 3
   },
   "file_extension": ".py",
   "mimetype": "text/x-python",
   "name": "python",
   "nbconvert_exporter": "python",
   "pygments_lexer": "ipython3",
   "version": "3.12.7"
  }
 },
 "nbformat": 4,
 "nbformat_minor": 5
}
